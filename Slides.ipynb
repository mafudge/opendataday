{
 "cells": [
  {
   "cell_type": "markdown",
   "id": "127d979c-ae61-48e5-b5c5-6b5ae1027f53",
   "metadata": {
    "slideshow": {
     "slide_type": "slide"
    },
    "tags": []
   },
   "source": [
    "# Syracuse Open Data Day\n",
    "\n",
    "## Accessing Open Data With Python\n",
    "\n",
    "https://github.com/mafudge/opendataday\n",
    "\n",
    "## Michael Fudge\n",
    "### Syracuse Univseristy iSchool "
   ]
  },
  {
   "cell_type": "markdown",
   "id": "62ea9794-cf34-4f9b-b83b-5c518df63840",
   "metadata": {
    "slideshow": {
     "slide_type": "slide"
    },
    "tags": []
   },
   "source": [
    "# Why Python\n",
    "\n",
    "- Most Popular Programming programming Language\n",
    "- TIOBE Index: [https://www.tiobe.com/tiobe-index/](https://www.tiobe.com/tiobe-index/)\n",
    "- Simple syntax, easy to learn\n",
    "- REPL Programming Flow (Read-Evaluate-Print-Loop)\n",
    "- Well suited for Data-oriented activities like Data Analysis / ETL / Visualizations / Machine Learning"
   ]
  },
  {
   "cell_type": "markdown",
   "id": "15a27b64-67f4-4613-8745-4b442f139f3c",
   "metadata": {
    "slideshow": {
     "slide_type": "slide"
    },
    "tags": []
   },
   "source": [
    "# Getting Python\n",
    "- Download it from Python.org [https://www.python.org/](https://www.python.org/)\n",
    "- Download it as part of a data science platform [https://www.anaconda.com/](https://www.anaconda.com/)\n",
    "- Run it in the browser [https://replit.com/](https://replit.com/)\n",
    "- Use computational notebooks [https://colab.research.google.com/](https://colab.research.google.com/), [https://jupyter.org/hub](https://jupyter.org/hub), Deepnote, Azure Notebooks"
   ]
  },
  {
   "cell_type": "markdown",
   "id": "7487cbae-aafa-4374-9751-2232890dfa89",
   "metadata": {
    "slideshow": {
     "slide_type": "slide"
    },
    "tags": []
   },
   "source": [
    "# Computational Notebook?\n",
    "- Browser based REPL environment\n",
    "- Instructions interpersed with code\n",
    "- Great for sharing and collaboration with code."
   ]
  },
  {
   "cell_type": "code",
   "execution_count": null,
   "id": "193cb629-5016-4b9e-b079-e226f2c80808",
   "metadata": {
    "slideshow": {
     "slide_type": "subslide"
    },
    "tags": []
   },
   "outputs": [],
   "source": [
    "print(\"Welcome from a notebook!\")"
   ]
  },
  {
   "cell_type": "markdown",
   "id": "c685d5e2-242a-4f41-b60d-1bac7167b5dc",
   "metadata": {
    "slideshow": {
     "slide_type": "slide"
    },
    "tags": []
   },
   "source": [
    "# Intro to Data Science for Zero Dollars\n",
    "\n",
    "- [https://wiki.python.org/moin/BeginnersGuide/NonProgrammers](https://wiki.python.org/moin/BeginnersGuide/NonProgrammers)\n",
    "- Python For Everybody, Severance [https://www.py4e.com/](https://www.py4e.com/)\n",
    "- Computational and Inferential Thinking, Adhikari et. al., [https://inferentialthinking.com/](https://inferentialthinking.com/)"
   ]
  },
  {
   "cell_type": "markdown",
   "id": "835a81fb-5277-4c6f-8a18-c9e6fddedd2f",
   "metadata": {},
   "source": [
    "# Python for Data Science: the libraries\n",
    "\n",
    "- Requests (HTTP for humans)\n",
    "- Pandas (Paneled Data) as tabluar / data frame library\n",
    "- Duck Db (Use SQL transformations over your data frames)\n",
    "- Folium (mapping)\n",
    "- Matplotlib, Seaborn (plots)"
   ]
  },
  {
   "cell_type": "markdown",
   "id": "77f217f4-22a9-45d0-a402-a6d50acc0f71",
   "metadata": {},
   "source": [
    "# Accessing Syracuse Open Data\n",
    "\n",
    "## (With Python)\n",
    "## (Using Computational Notebooks)"
   ]
  },
  {
   "cell_type": "code",
   "execution_count": null,
   "id": "97c06190-554c-496c-9f15-7ff715ce648c",
   "metadata": {},
   "outputs": [],
   "source": []
  },
  {
   "cell_type": "code",
   "execution_count": null,
   "id": "e4923f5e-5da1-4bfd-968e-e61eb4dedea1",
   "metadata": {
    "slideshow": {
     "slide_type": "slide"
    },
    "tags": []
   },
   "outputs": [],
   "source": []
  }
 ],
 "metadata": {
  "kernelspec": {
   "display_name": "Python 3 (ipykernel)",
   "language": "python",
   "name": "python3"
  },
  "language_info": {
   "codemirror_mode": {
    "name": "ipython",
    "version": 3
   },
   "file_extension": ".py",
   "mimetype": "text/x-python",
   "name": "python",
   "nbconvert_exporter": "python",
   "pygments_lexer": "ipython3",
   "version": "3.11.3"
  }
 },
 "nbformat": 4,
 "nbformat_minor": 5
}
